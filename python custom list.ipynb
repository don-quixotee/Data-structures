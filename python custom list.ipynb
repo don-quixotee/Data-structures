{
 "cells": [
  {
   "cell_type": "code",
   "execution_count": 1,
   "metadata": {},
   "outputs": [
    {
     "ename": "TypeError",
     "evalue": "insertAt() missing 1 required positional argument: 'item'",
     "output_type": "error",
     "traceback": [
      "\u001b[0;31m---------------------------------------------------------------------------\u001b[0m",
      "\u001b[0;31mTypeError\u001b[0m                                 Traceback (most recent call last)",
      "\u001b[0;32m<ipython-input-1-3d41a1c65494>\u001b[0m in \u001b[0;36m<module>\u001b[0;34m\u001b[0m\n\u001b[1;32m     44\u001b[0m \u001b[0;34m\u001b[0m\u001b[0m\n\u001b[1;32m     45\u001b[0m \u001b[0ml\u001b[0m\u001b[0;34m.\u001b[0m\u001b[0madd\u001b[0m\u001b[0;34m(\u001b[0m\u001b[0;36m400\u001b[0m\u001b[0;34m)\u001b[0m\u001b[0;34m\u001b[0m\u001b[0;34m\u001b[0m\u001b[0m\n\u001b[0;32m---> 46\u001b[0;31m \u001b[0ml\u001b[0m\u001b[0;34m.\u001b[0m\u001b[0minsertAt\u001b[0m\u001b[0;34m(\u001b[0m\u001b[0;36m1\u001b[0m\u001b[0;34m)\u001b[0m\u001b[0;34m\u001b[0m\u001b[0;34m\u001b[0m\u001b[0m\n\u001b[0m\u001b[1;32m     47\u001b[0m \u001b[0;34m\u001b[0m\u001b[0m\n\u001b[1;32m     48\u001b[0m \u001b[0;34m\u001b[0m\u001b[0m\n",
      "\u001b[0;31mTypeError\u001b[0m: insertAt() missing 1 required positional argument: 'item'"
     ]
    }
   ],
   "source": [
    "class myList:\n",
    "    def __init__(self):\n",
    "        self.length = 0\n",
    "        self.data = []\n",
    "\n",
    "    def getElementAtIndex(self,index):\n",
    "        return self.data[index]\n",
    "\n",
    "    def add(self,element):\n",
    "        self.data.append(element)\n",
    "        self.length+=1\n",
    "        return self.length\n",
    "\n",
    "     \n",
    "    def pop(self):\n",
    "        item = self.data[self.length-1]\n",
    "        del self.data[self.length-1]\n",
    "        self.length-=1\n",
    "        return item\n",
    "    \n",
    "    def deleteAt(self,index):\n",
    "        for i in range(index,self.length-1):\n",
    "            self.data[i] = self.data[i+1]\n",
    "        del self.data[self.length-1]\n",
    "        self.length-=1\n",
    "        return self.data\n",
    "    \n",
    "    def insertAt(self,index,item):\n",
    "        for i in range(self.length,index,-1):\n",
    "            self.data[i] = self.data[i-1]\n",
    "        self.data[index] = item\n",
    "        self.length+=1\n",
    "        return self.data\n",
    "          \n",
    "    \n",
    "    \n",
    "l = myList()\n",
    "\n",
    "l.add(30)\n",
    "\n",
    "l.add(300)\n",
    "l.add(3000)\n",
    "l.add(30000)\n",
    "\n",
    "l.add(400)\n",
    "l.insertAt(1)\n",
    "\n",
    "\n",
    "\n",
    "    "
   ]
  }
 ],
 "metadata": {
  "kernelspec": {
   "display_name": "Python 3",
   "language": "python",
   "name": "python3"
  },
  "language_info": {
   "codemirror_mode": {
    "name": "ipython",
    "version": 3
   },
   "file_extension": ".py",
   "mimetype": "text/x-python",
   "name": "python",
   "nbconvert_exporter": "python",
   "pygments_lexer": "ipython3",
   "version": "3.7.6"
  }
 },
 "nbformat": 4,
 "nbformat_minor": 4
}
